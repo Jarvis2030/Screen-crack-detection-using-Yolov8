{
 "cells": [
  {
   "attachments": {},
   "cell_type": "markdown",
   "metadata": {},
   "source": [
    "# Setting"
   ]
  },
  {
   "cell_type": "code",
   "execution_count": 31,
   "metadata": {},
   "outputs": [],
   "source": [
    "import tensorflow as tf\n",
    "import numpy as np\n",
    "import keras\n",
    "import cv2\n",
    "import matplotlib as plt\n",
    "from keras.preprocessing import image\n",
    "\n",
    "model = tf.keras.models.load_model('/Users/linyuchun/Desktop/Coop program/Phone_crack_recog_v1.models')"
   ]
  },
  {
   "attachments": {},
   "cell_type": "markdown",
   "metadata": {},
   "source": [
    "# Function Definition"
   ]
  },
  {
   "cell_type": "code",
   "execution_count": 29,
   "metadata": {},
   "outputs": [],
   "source": [
    "def image_reformat(img, threshold = 75):\n",
    "    img = cv2.resize(img, (256,256), interpolation=cv2.INTER_AREA) #Resize = 256*256*3\n",
    "    kernal = np.array([[-1,-1,-1],[-1,10,-1],[-1,-1,-1]])\n",
    "    img = cv2.cvtColor(img, cv2.COLOR_BGR2GRAY)\n",
    "    #sharpen the edge with self-defined kernal\n",
    "    img = cv2.filter2D(img, -1, kernel= kernal)\n",
    "    #Blur the image to reduce small noise\n",
    "    img = cv2.GaussianBlur(img,(3,3),0)\n",
    "    _, thres = cv2.threshold(img, threshold, 255, cv2.THRESH_BINARY_INV)\n",
    "\n",
    "    lap = (np.uint8(np.absolute(cv2.Laplacian(thres, cv2.CV_64F))))\n",
    "    cv2.imshow(\"hi\",thres)\n",
    "    cv2.waitKey(1)\n",
    "    \n",
    "    img = np.expand_dims(lap,axis=0)\n",
    "    \n",
    "\n",
    "    #find the contours\n",
    "    return img\n",
    "\n",
    " \n",
    " \n",
    "def prediction(img):\n",
    "    result = np.argmax(model.predict(img))\n",
    "    print(result)\n",
    "\n",
    "    if result == 0: return \"Demaged\"\n",
    "    else: return \"Congrats it is a good phone\"\n",
    "\n"
   ]
  },
  {
   "attachments": {},
   "cell_type": "markdown",
   "metadata": {},
   "source": []
  },
  {
   "cell_type": "code",
   "execution_count": 45,
   "metadata": {},
   "outputs": [
    {
     "name": "stdout",
     "output_type": "stream",
     "text": [
      "1/1 [==============================] - 0s 17ms/step\n",
      "1/1 [==============================] - 0s 18ms/step\n",
      "0\n",
      "1\n"
     ]
    },
    {
     "ename": "",
     "evalue": "",
     "output_type": "error",
     "traceback": [
      "\u001b[1;31m在目前儲存格或上一個儲存格中執行程式碼時，Kernel 已損毀。請檢閱儲存格中的程式碼，找出失敗的可能原因。如需詳細資訊，請按一下<a href='https://aka.ms/vscodeJupyterKernelCrash'>這裡</a>。檢視 Jupyter <a href='command:jupyter.viewOutput'>記錄</a>，以取得進一步的詳細資料。"
     ]
    }
   ],
   "source": [
    "testing_img = cv2.imread('/Users/linyuchun/Desktop/Coop program/Hi.jpg')\n",
    "testing_img2 = cv2.imread('/Users/linyuchun/Desktop/Coop program/dataset/train/mobile_not_damaged/0001拷貝2.jpg')\n",
    "img = image_reformat(testing_img)\n",
    "img2 = image_reformat(testing_img2)\n",
    "result = np.argmax(model.predict(img))\n",
    "result2 = np.argmax(model.predict(img2))"
   ]
  },
  {
   "attachments": {},
   "cell_type": "markdown",
   "metadata": {},
   "source": [
    "# implementation with openCV"
   ]
  },
  {
   "cell_type": "code",
   "execution_count": 37,
   "metadata": {},
   "outputs": [
    {
     "name": "stdout",
     "output_type": "stream",
     "text": [
      "(1, 256, 256)\n"
     ]
    },
    {
     "ename": "error",
     "evalue": "OpenCV(4.8.0) /Users/xperience/GHA-OpenCV-Python/_work/opencv-python/opencv-python/opencv/modules/imgproc/src/color.simd_helpers.hpp:92: error: (-2:Unspecified error) in function 'cv::impl::(anonymous namespace)::CvtHelper<cv::impl::(anonymous namespace)::Set<3, 4, -1>, cv::impl::(anonymous namespace)::Set<3, 4, -1>, cv::impl::(anonymous namespace)::Set<0, 2, 5>, cv::impl::(anonymous namespace)::NONE>::CvtHelper(cv::InputArray, cv::OutputArray, int) [VScn = cv::impl::(anonymous namespace)::Set<3, 4, -1>, VDcn = cv::impl::(anonymous namespace)::Set<3, 4, -1>, VDepth = cv::impl::(anonymous namespace)::Set<0, 2, 5>, sizePolicy = cv::impl::(anonymous namespace)::NONE]'\n> Invalid number of channels in input image:\n>     'VScn::contains(scn)'\n> where\n>     'scn' is 256\n",
     "output_type": "error",
     "traceback": [
      "\u001b[0;31m---------------------------------------------------------------------------\u001b[0m",
      "\u001b[0;31merror\u001b[0m                                     Traceback (most recent call last)",
      "Cell \u001b[0;32mIn[37], line 19\u001b[0m\n\u001b[1;32m     17\u001b[0m \u001b[39m# display the thresholded image\u001b[39;00m\n\u001b[1;32m     18\u001b[0m cv2\u001b[39m.\u001b[39mimshow(\u001b[39m\"\u001b[39m\u001b[39mNormal cam\u001b[39m\u001b[39m\"\u001b[39m, frame)\n\u001b[0;32m---> 19\u001b[0m cv2\u001b[39m.\u001b[39;49mimshow(\u001b[39m\"\u001b[39;49m\u001b[39mThresholded Image\u001b[39;49m\u001b[39m\"\u001b[39;49m, target_frame)\n\u001b[1;32m     21\u001b[0m target_frame \u001b[39m=\u001b[39m target_frame[\u001b[39mNone\u001b[39;00m,:]\n\u001b[1;32m     22\u001b[0m res\u001b[39m=\u001b[39mprediction(target_frame)\n",
      "\u001b[0;31merror\u001b[0m: OpenCV(4.8.0) /Users/xperience/GHA-OpenCV-Python/_work/opencv-python/opencv-python/opencv/modules/imgproc/src/color.simd_helpers.hpp:92: error: (-2:Unspecified error) in function 'cv::impl::(anonymous namespace)::CvtHelper<cv::impl::(anonymous namespace)::Set<3, 4, -1>, cv::impl::(anonymous namespace)::Set<3, 4, -1>, cv::impl::(anonymous namespace)::Set<0, 2, 5>, cv::impl::(anonymous namespace)::NONE>::CvtHelper(cv::InputArray, cv::OutputArray, int) [VScn = cv::impl::(anonymous namespace)::Set<3, 4, -1>, VDcn = cv::impl::(anonymous namespace)::Set<3, 4, -1>, VDepth = cv::impl::(anonymous namespace)::Set<0, 2, 5>, sizePolicy = cv::impl::(anonymous namespace)::NONE]'\n> Invalid number of channels in input image:\n>     'VScn::contains(scn)'\n> where\n>     'scn' is 256\n"
     ]
    }
   ],
   "source": [
    "video = cv2.VideoCapture(1)\n",
    "\n",
    "#segment frame\n",
    "top, bottom, right, left =0, 1000, 1000, 1920\n",
    "\n",
    "\n",
    "while video.isOpened():\n",
    "\n",
    "    ret, frame = video.read()\n",
    "    target_frame = frame.copy()[top:bottom, right:left]\n",
    "\n",
    "    #mark the region that we are detecting\n",
    "    cv2.rectangle(frame,(top,right),(bottom, left), (0,0,255), 2)\n",
    "    target_frame = image_reformat(target_frame, 100)\n",
    "\n",
    "\n",
    "    # display the thresholded image\n",
    "    cv2.imshow(\"Normal cam\", frame)\n",
    "    cv2.imshow(\"Thresholded Image\", target_frame)\n",
    "\n",
    "    target_frame = target_frame[None,:]\n",
    "    res=prediction(target_frame)\n",
    "\n",
    "    if res == 0:\n",
    "        cv2.putText(frame, \"The phone is demaged\", (330, 355), cv2.FONT_HERSHEY_SIMPLEX, 0.5, (0,0,255),1)\n",
    "        print('Demaged')\n",
    "    elif res ==1: \n",
    "        cv2.putText(frame, \"The phone is completed woo hoo\", (330, 355), cv2.FONT_HERSHEY_SIMPLEX, 0.5, (0,0,255),1)\n",
    "        print('Completed')\n",
    "\n",
    "\n",
    "    #Quit the app\n",
    "    k = cv2.waitKey(1) & 0xFF\n",
    "\n",
    "    if k == 27:\n",
    "        break\n"
   ]
  }
 ],
 "metadata": {
  "kernelspec": {
   "display_name": "Python 3",
   "language": "python",
   "name": "python3"
  },
  "language_info": {
   "codemirror_mode": {
    "name": "ipython",
    "version": 3
   },
   "file_extension": ".py",
   "mimetype": "text/x-python",
   "name": "python",
   "nbconvert_exporter": "python",
   "pygments_lexer": "ipython3",
   "version": "3.11.4"
  },
  "orig_nbformat": 4
 },
 "nbformat": 4,
 "nbformat_minor": 2
}
